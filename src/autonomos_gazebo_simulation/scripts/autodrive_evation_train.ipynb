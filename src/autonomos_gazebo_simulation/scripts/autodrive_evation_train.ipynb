{
  "cells": [
    {
      "cell_type": "markdown",
      "metadata": {
        "id": "Zr5eMnASzC4j"
      },
      "source": [
        "### Bibliotecas"
      ]
    },
    {
      "cell_type": "code",
      "execution_count": 1,
      "metadata": {
        "id": "Gfv-oNL_y-NW"
      },
      "outputs": [],
      "source": [
        "import tensorflow as tf\n",
        "import pandas as pd\n",
        "import numpy as np\n",
        "import matplotlib.pyplot as plt\n",
        "from sklearn.utils import shuffle\n",
        "import os"
      ]
    },
    {
      "cell_type": "markdown",
      "metadata": {
        "id": "Tu0bHDjpVczr"
      },
      "source": [
        "### Importando Datos"
      ]
    },
    {
      "cell_type": "code",
      "execution_count": 3,
      "metadata": {
        "colab": {
          "base_uri": "https://localhost:8080/"
        },
        "id": "KIO6IR8JzNUk",
        "outputId": "092f3615-261f-466d-eebd-deeb827a3dcc"
      },
      "outputs": [
        {
          "name": "stdout",
          "output_type": "stream",
          "text": [
            "Imágenes de ciudad:  16836\n"
          ]
        }
      ],
      "source": [
        "path = '/home/faber/EK_AutoNOMOS_Sim/src/autonomos_gazebo_simulation/scripts'\n",
        "passingDir = path + '/dataTRAIN'\n",
        "passingImagesDir = passingDir + '/dataset_passing'\n",
        "#passingImages = !ls -1 '{passingImagesDir}'\n",
        "passingImages = os.listdir(passingImagesDir)\n",
        "\n",
        "print('Imágenes de ciudad: ', len(passingImages))"
      ]
    },
    {
      "cell_type": "code",
      "execution_count": 4,
      "metadata": {
        "colab": {
          "base_uri": "https://localhost:8080/"
        },
        "id": "38-a1pjO0Hib",
        "outputId": "5527d501-7399-4c4b-94f6-f4aba4a42226"
      },
      "outputs": [
        {
          "name": "stdout",
          "output_type": "stream",
          "text": [
            "Diferencia entre tamaño de los DF y numero de imgs: \n",
            "0\n",
            "0\n"
          ]
        }
      ],
      "source": [
        "lidarCSV = passingDir + '/lidar.csv'\n",
        "outputsCSV = passingDir + '/outputs.csv'\n",
        "\n",
        "outputs = pd.read_csv(outputsCSV, names=['angle', 'speed'], sep='\\t')\n",
        "lidar = pd.read_csv(lidarCSV, sep='\\t', header=None)\n",
        "lidar = lidar.iloc[: , :-1]\n",
        "\n",
        "print(\"Diferencia entre tamaño de los DF y numero de imgs: \")\n",
        "print((len(outputs) - len(passingImages)))\n",
        "print((len(lidar) - len(passingImages)))\n",
        "\n",
        "data = pd.concat([outputs, lidar], axis=1, join='inner')\n",
        "data['img'] = sorted(passingImages, key=lambda x:int(x.replace('_camara.png', '')))\n",
        "\n",
        "cols = data.columns.tolist()\n",
        "cols = cols[-1:] + cols[:-1]\n",
        "data = data[cols]"
      ]
    },
    {
      "cell_type": "code",
      "execution_count": 5,
      "metadata": {
        "colab": {
          "base_uri": "https://localhost:8080/",
          "height": 300
        },
        "id": "Kr1X64M900-J",
        "outputId": "dedd304b-1342-4464-f080-8225d23f88c7"
      },
      "outputs": [
        {
          "data": {
            "text/html": [
              "<div>\n",
              "<style scoped>\n",
              "    .dataframe tbody tr th:only-of-type {\n",
              "        vertical-align: middle;\n",
              "    }\n",
              "\n",
              "    .dataframe tbody tr th {\n",
              "        vertical-align: top;\n",
              "    }\n",
              "\n",
              "    .dataframe thead th {\n",
              "        text-align: right;\n",
              "    }\n",
              "</style>\n",
              "<table border=\"1\" class=\"dataframe\">\n",
              "  <thead>\n",
              "    <tr style=\"text-align: right;\">\n",
              "      <th></th>\n",
              "      <th>img</th>\n",
              "      <th>angle</th>\n",
              "      <th>speed</th>\n",
              "      <th>0</th>\n",
              "      <th>1</th>\n",
              "      <th>2</th>\n",
              "      <th>3</th>\n",
              "      <th>4</th>\n",
              "      <th>5</th>\n",
              "      <th>6</th>\n",
              "      <th>...</th>\n",
              "      <th>350</th>\n",
              "      <th>351</th>\n",
              "      <th>352</th>\n",
              "      <th>353</th>\n",
              "      <th>354</th>\n",
              "      <th>355</th>\n",
              "      <th>356</th>\n",
              "      <th>357</th>\n",
              "      <th>358</th>\n",
              "      <th>359</th>\n",
              "    </tr>\n",
              "  </thead>\n",
              "  <tbody>\n",
              "    <tr>\n",
              "      <th>0</th>\n",
              "      <td>1_camara.png</td>\n",
              "      <td>103.0</td>\n",
              "      <td>-600</td>\n",
              "      <td>3.0</td>\n",
              "      <td>3.0</td>\n",
              "      <td>3.0</td>\n",
              "      <td>3.0</td>\n",
              "      <td>3.0</td>\n",
              "      <td>3.0</td>\n",
              "      <td>3.0</td>\n",
              "      <td>...</td>\n",
              "      <td>3.0</td>\n",
              "      <td>3.0</td>\n",
              "      <td>3.0</td>\n",
              "      <td>3.0</td>\n",
              "      <td>3.0</td>\n",
              "      <td>3.0</td>\n",
              "      <td>3.0</td>\n",
              "      <td>3.0</td>\n",
              "      <td>3.0</td>\n",
              "      <td>3.0</td>\n",
              "    </tr>\n",
              "    <tr>\n",
              "      <th>1</th>\n",
              "      <td>2_camara.png</td>\n",
              "      <td>103.0</td>\n",
              "      <td>-600</td>\n",
              "      <td>3.0</td>\n",
              "      <td>3.0</td>\n",
              "      <td>3.0</td>\n",
              "      <td>3.0</td>\n",
              "      <td>3.0</td>\n",
              "      <td>3.0</td>\n",
              "      <td>3.0</td>\n",
              "      <td>...</td>\n",
              "      <td>3.0</td>\n",
              "      <td>3.0</td>\n",
              "      <td>3.0</td>\n",
              "      <td>3.0</td>\n",
              "      <td>3.0</td>\n",
              "      <td>3.0</td>\n",
              "      <td>3.0</td>\n",
              "      <td>3.0</td>\n",
              "      <td>3.0</td>\n",
              "      <td>3.0</td>\n",
              "    </tr>\n",
              "    <tr>\n",
              "      <th>2</th>\n",
              "      <td>3_camara.png</td>\n",
              "      <td>103.0</td>\n",
              "      <td>-600</td>\n",
              "      <td>3.0</td>\n",
              "      <td>3.0</td>\n",
              "      <td>3.0</td>\n",
              "      <td>3.0</td>\n",
              "      <td>3.0</td>\n",
              "      <td>3.0</td>\n",
              "      <td>3.0</td>\n",
              "      <td>...</td>\n",
              "      <td>3.0</td>\n",
              "      <td>3.0</td>\n",
              "      <td>3.0</td>\n",
              "      <td>3.0</td>\n",
              "      <td>3.0</td>\n",
              "      <td>3.0</td>\n",
              "      <td>3.0</td>\n",
              "      <td>3.0</td>\n",
              "      <td>3.0</td>\n",
              "      <td>3.0</td>\n",
              "    </tr>\n",
              "    <tr>\n",
              "      <th>3</th>\n",
              "      <td>4_camara.png</td>\n",
              "      <td>106.0</td>\n",
              "      <td>-600</td>\n",
              "      <td>3.0</td>\n",
              "      <td>3.0</td>\n",
              "      <td>3.0</td>\n",
              "      <td>3.0</td>\n",
              "      <td>3.0</td>\n",
              "      <td>3.0</td>\n",
              "      <td>3.0</td>\n",
              "      <td>...</td>\n",
              "      <td>3.0</td>\n",
              "      <td>3.0</td>\n",
              "      <td>3.0</td>\n",
              "      <td>3.0</td>\n",
              "      <td>3.0</td>\n",
              "      <td>3.0</td>\n",
              "      <td>3.0</td>\n",
              "      <td>3.0</td>\n",
              "      <td>3.0</td>\n",
              "      <td>3.0</td>\n",
              "    </tr>\n",
              "    <tr>\n",
              "      <th>4</th>\n",
              "      <td>5_camara.png</td>\n",
              "      <td>106.0</td>\n",
              "      <td>-600</td>\n",
              "      <td>3.0</td>\n",
              "      <td>3.0</td>\n",
              "      <td>3.0</td>\n",
              "      <td>3.0</td>\n",
              "      <td>3.0</td>\n",
              "      <td>3.0</td>\n",
              "      <td>3.0</td>\n",
              "      <td>...</td>\n",
              "      <td>3.0</td>\n",
              "      <td>3.0</td>\n",
              "      <td>3.0</td>\n",
              "      <td>3.0</td>\n",
              "      <td>3.0</td>\n",
              "      <td>3.0</td>\n",
              "      <td>3.0</td>\n",
              "      <td>3.0</td>\n",
              "      <td>3.0</td>\n",
              "      <td>3.0</td>\n",
              "    </tr>\n",
              "  </tbody>\n",
              "</table>\n",
              "<p>5 rows × 363 columns</p>\n",
              "</div>"
            ],
            "text/plain": [
              "            img  angle  speed    0    1    2    3    4    5    6  ...  350  \\\n",
              "0  1_camara.png  103.0   -600  3.0  3.0  3.0  3.0  3.0  3.0  3.0  ...  3.0   \n",
              "1  2_camara.png  103.0   -600  3.0  3.0  3.0  3.0  3.0  3.0  3.0  ...  3.0   \n",
              "2  3_camara.png  103.0   -600  3.0  3.0  3.0  3.0  3.0  3.0  3.0  ...  3.0   \n",
              "3  4_camara.png  106.0   -600  3.0  3.0  3.0  3.0  3.0  3.0  3.0  ...  3.0   \n",
              "4  5_camara.png  106.0   -600  3.0  3.0  3.0  3.0  3.0  3.0  3.0  ...  3.0   \n",
              "\n",
              "   351  352  353  354  355  356  357  358  359  \n",
              "0  3.0  3.0  3.0  3.0  3.0  3.0  3.0  3.0  3.0  \n",
              "1  3.0  3.0  3.0  3.0  3.0  3.0  3.0  3.0  3.0  \n",
              "2  3.0  3.0  3.0  3.0  3.0  3.0  3.0  3.0  3.0  \n",
              "3  3.0  3.0  3.0  3.0  3.0  3.0  3.0  3.0  3.0  \n",
              "4  3.0  3.0  3.0  3.0  3.0  3.0  3.0  3.0  3.0  \n",
              "\n",
              "[5 rows x 363 columns]"
            ]
          },
          "execution_count": 5,
          "metadata": {},
          "output_type": "execute_result"
        }
      ],
      "source": [
        "#lidar.head()\n",
        "#outputs.head()\n",
        "data.head()"
      ]
    },
    {
      "cell_type": "markdown",
      "metadata": {
        "id": "-m31EXEVWHVp"
      },
      "source": [
        "### Visualizando datos"
      ]
    },
    {
      "cell_type": "code",
      "execution_count": 6,
      "metadata": {
        "colab": {
          "base_uri": "https://localhost:8080/",
          "height": 265
        },
        "id": "CKKRGjW12AJx",
        "outputId": "78520901-2402-4b2e-88c1-803b9f19b45d"
      },
      "outputs": [
        {
          "data": {
            "image/png": "[encoded data removed]",
            "text/plain": [
              "<Figure size 432x288 with 1 Axes>"
            ]
          },
          "metadata": {
            "needs_background": "light"
          },
          "output_type": "display_data"
        }
      ],
      "source": [
        "plt.hist(data['speed'], bins = 31)\n",
        "plt.show()"
      ]
    },
    {
      "cell_type": "code",
      "execution_count": 7,
      "metadata": {
        "id": "lGIeZefR2uJk"
      },
      "outputs": [],
      "source": [
        "def binningData(nbins, samplesPerBin, data):\n",
        "  hist, bins = np.histogram(data['speed'].to_numpy(), nbins)\n",
        "  removeIndexList = []\n",
        "  for j in range(nbins):\n",
        "    binDataList = []\n",
        "    for i in range(len(data['speed'])):\n",
        "      if data['speed'][i] >= bins[j] and data['speed'][i] <= bins[j+1]:\n",
        "        binDataList.append(i)\n",
        "    binDataList = shuffle(binDataList)\n",
        "    binDataList = binDataList[samplesPerBin:]\n",
        "    removeIndexList.extend(binDataList)\n",
        "  print('Removed images: ', len(removeIndexList))\n",
        "  data.drop(data.index[removeIndexList], inplace=True)\n",
        "  print('Remaining images: ', len(data))"
      ]
    },
    {
      "cell_type": "code",
      "execution_count": 8,
      "metadata": {
        "colab": {
          "base_uri": "https://localhost:8080/"
        },
        "id": "Eplc4AvJ2zPI",
        "outputId": "d0f3a350-7b31-4364-b1bc-7d13105192e7"
      },
      "outputs": [
        {
          "name": "stdout",
          "output_type": "stream",
          "text": [
            "Removed images:  9727\n",
            "Remaining images:  7109\n"
          ]
        }
      ],
      "source": [
        "binningData(31, 2000, data)"
      ]
    },
    {
      "cell_type": "code",
      "execution_count": 10,
      "metadata": {
        "colab": {
          "base_uri": "https://localhost:8080/",
          "height": 265
        },
        "id": "PWL88LCl3APp",
        "outputId": "2c9191ba-0e15-472b-dcdf-b82a4002fcfd"
      },
      "outputs": [
        {
          "data": {
            "image/png": "[encoded data removed]",
            "text/plain": [
              "<Figure size 432x288 with 1 Axes>"
            ]
          },
          "metadata": {
            "needs_background": "light"
          },
          "output_type": "display_data"
        }
      ],
      "source": [
        "plt.hist(data['speed'], bins = 31)\n",
        "plt.show()"
      ]
    },
    {
      "cell_type": "markdown",
      "metadata": {
        "id": "yrnav3mG3um8"
      },
      "source": [
        "### Input pipeline"
      ]
    },
    {
      "cell_type": "code",
      "execution_count": 35,
      "metadata": {
        "colab": {
          "base_uri": "https://localhost:8080/",
          "height": 113
        },
        "id": "Fi4soooa3xIh",
        "outputId": "4a1044df-b1f3-4083-bd6c-202e5736e6c8"
      },
      "outputs": [
        {
          "data": {
            "image/png": "[encoded data removed]",
            "text/plain": [
              "<Figure size 432x288 with 1 Axes>"
            ]
          },
          "metadata": {
            "needs_background": "light"
          },
          "output_type": "display_data"
        },
        {
          "name": "stdout",
          "output_type": "stream",
          "text": [
            "out:  (0.011111111111111072, 0.7225)\n",
            "(86, 360, 3)\n"
          ]
        }
      ],
      "source": [
        "def crop(inimg):\n",
        "  #image = inimg[270:405, :, :]\n",
        "  image = inimg[220:370, :, :]\n",
        "  image = tf.image.resize(image, [66, 360])\n",
        "  #image = tf.image.rgb_to_yuv(image) # Lo he probado con YUV, pero no he visto mejoras perceptibles\n",
        "  return image\n",
        "\n",
        "def normalize(image):\n",
        "  #inImg = (image/127.5) - 1  # normaliza de 0 a 255 -> -1 a 1\n",
        "  inImg = image/255           # normaliza de 0 a 255 -> 0 a 1\n",
        "  return inImg\n",
        "\n",
        "def loadPista(filename, angle, speed, lidar, dir, flip = False, augment = False):\n",
        "  inImg = tf.cast(tf.image.decode_jpeg(tf.io.read_file(dir + '/' + filename)), tf.float32)[...,:3]\n",
        "  #inImg = tf.image.adjust_contrast(inImg, 2)\n",
        "  #inImg = tf.image.adjust_brightness(inImg, delta = 0.1) # udacity simulator\n",
        "\n",
        "  # aumentación de datos aleatoria\n",
        "  if augment:\n",
        "    if np.random.rand() < 0.5:\n",
        "      inImg = tf.image.random_hue(inImg, .2)\n",
        "    if np.random.rand() < 0.5:\n",
        "      inImg = tf.image.random_saturation(inImg, 1, 3)\n",
        "    if np.random.rand() < 0.5:\n",
        "      inImg = tf.image.random_brightness(inImg, 0.5)\n",
        "    if np.random.rand() < 0.5:\n",
        "      inImg = tf.image.random_contrast(inImg, 0.4, 1)\n",
        "\n",
        "  inImg = normalize(inImg)\n",
        "  inImg = crop(inImg)\n",
        "  \n",
        "  # se invierte la imágen horizontalmente y si se hace, se invirte el ángulo\n",
        "  if flip:\n",
        "    inImg = tf.image.flip_left_right(inImg)\n",
        "    angle = angle * -1\n",
        "    lidar = lidar[::-1]\n",
        "\n",
        "  # el último paso de la aumentación de datos es un corte aleatorio al que después\n",
        "  # se le cambia el tamaño para que pueda ser procesado por la red\n",
        "  if augment:\n",
        "    if np.random.rand() < 0.5:\n",
        "      inImg = tf.image.random_crop(value=inImg, size=(50, 150, 3))\n",
        "      #inImg = tf.image.resize(inImg, [66, 200])\n",
        "      inImg = tf.image.resize(inImg, [66, 360])\n",
        "\n",
        "  angle = ((angle/180)*2)-1\n",
        "  speed = -speed/800\n",
        "  outputs = (angle, speed)\n",
        "\n",
        "  # lidar as img\n",
        "  lidar = lidar[::-1]\n",
        "  #lidar.astype('float32')\n",
        "  lidar = tf.roll(lidar, 180, axis = 0)\n",
        "  lidar /= 3\n",
        "  lidarImg = [\n",
        "              lidar,\n",
        "              lidar,\n",
        "              lidar,\n",
        "              lidar,\n",
        "              lidar,\n",
        "              lidar,\n",
        "              lidar,\n",
        "              lidar,\n",
        "              lidar,\n",
        "              lidar,\n",
        "              lidar,\n",
        "              lidar,\n",
        "              lidar,\n",
        "              lidar,\n",
        "              lidar,\n",
        "              lidar,\n",
        "              lidar,\n",
        "              lidar,\n",
        "              lidar,\n",
        "              lidar,\n",
        "              ]\n",
        "  lidarImg = [lidarImg,lidarImg,lidarImg]\n",
        "  \n",
        "  lidarImg = tf.transpose(lidarImg,[1, 2, 0])\n",
        "  inImg = tf.concat([inImg, lidarImg], 0)\n",
        "\n",
        "  return inImg, outputs\n",
        "\n",
        "\n",
        "\n",
        "# Prueba función de load\n",
        "row = data.iloc[3980] #de 3900 a 4030 hay un rebase después del binning a 800 en speed en el primer dataset\n",
        "lidarVector = row[3:363].to_numpy().astype('float32')\n",
        "image, angle = loadPista(row['img'], row['angle'], row['speed'], lidarVector, passingImagesDir, flip=False, augment=False)\n",
        "#plt.title('Imagen de prueba: ' + urlsPista2_manual[0])\n",
        "#plt.imshow((image + 1) / 2)    # Si se normalizó de -1 a 1\n",
        "plt.imshow(image)               # Si se normalizó de 0 a 1\n",
        "plt.axis('off')\n",
        "plt.show()\n",
        "print('out: ', angle)\n",
        "print(image.shape)\n",
        "#plt.imshow(tf.cast(tf.image.decode_jpeg(tf.io.read_file(passingImagesDir + '/' + row['img'])), tf.uint8)[...,:3])\n",
        "#print(np.shape(image))"
      ]
    },
    {
      "cell_type": "code",
      "execution_count": 37,
      "metadata": {
        "colab": {
          "base_uri": "https://localhost:8080/"
        },
        "id": "m-aYTtIeKoFZ",
        "outputId": "1285447f-3d02-47c5-866b-02d1fb3e0a93"
      },
      "outputs": [
        {
          "name": "stdout",
          "output_type": "stream",
          "text": [
            "Tamaño del dataset en lotes (batches):  112\n",
            "Tamaño del dataset de entrenamiento en lotes (batches):  112\n",
            "Tamaño del dataset de validacipon en lotes (batches):  0\n"
          ]
        }
      ],
      "source": [
        "cols = data.columns.tolist()\n",
        "cols = cols[3:363]\n",
        "\n",
        "dataset_p1 = tf.data.Dataset.from_tensor_slices((\n",
        "    data['img'].to_list(), \n",
        "    np.squeeze(data['angle'].to_numpy()), \n",
        "    np.squeeze(data['speed'].to_numpy()), \n",
        "    np.squeeze(data[cols].to_numpy().astype('float32'))\n",
        "    ))\n",
        "dataset_p1 = dataset_p1.map(lambda img, ang, spd, radar: loadPista(img, ang, spd, radar, passingImagesDir, flip=False, augment=False))\n",
        "\n",
        "dataset_p2 = tf.data.Dataset.from_tensor_slices((\n",
        "    data['img'].to_list(), \n",
        "    np.squeeze(data['angle'].to_numpy()), \n",
        "    np.squeeze(data['speed'].to_numpy()), \n",
        "    np.squeeze(data[cols].to_numpy().astype('float32'))\n",
        "    ))\n",
        "dataset_p2 = dataset_p2.map(lambda img, ang, spd, radar: loadPista(img, ang, spd, radar, passingImagesDir, flip=False, augment=True))\n",
        "\n",
        "dataset_p3 = tf.data.Dataset.from_tensor_slices((\n",
        "    data['img'].to_list(), \n",
        "    np.squeeze(data['angle'].to_numpy()), \n",
        "    np.squeeze(data['speed'].to_numpy()), \n",
        "    np.squeeze(data[cols].to_numpy().astype('float32'))\n",
        "    ))\n",
        "dataset_p3 = dataset_p3.map(lambda img, ang, spd, radar: loadPista(img, ang, spd, radar, passingImagesDir, flip=False, augment=True))\n",
        "\n",
        "dataset_p4 = tf.data.Dataset.from_tensor_slices((\n",
        "    data['img'].to_list(), \n",
        "    np.squeeze(data['angle'].to_numpy()), \n",
        "    np.squeeze(data['speed'].to_numpy()), \n",
        "    np.squeeze(data[cols].to_numpy().astype('float32'))\n",
        "    ))\n",
        "dataset_p4 = dataset_p4.map(lambda img, ang, spd, radar: loadPista(img, ang, spd, radar, passingImagesDir, flip=False, augment=True))\n",
        "\n",
        "fullDataset = dataset_p1.concatenate(dataset_p2)\n",
        "fullDataset = fullDataset.concatenate(dataset_p3)\n",
        "fullDataset = fullDataset.concatenate(dataset_p4)\n",
        "fullDataset = fullDataset.batch(256)\n",
        "DATASET_SIZE = fullDataset.cardinality().numpy()\n",
        "#fullDataset = fullDataset.shuffle(DATASET_SIZE)\n",
        "\n",
        "train_size = int(1 * DATASET_SIZE)\n",
        "val_size = int(0 * DATASET_SIZE)\n",
        "\n",
        "print(\"Tamaño del dataset en lotes (batches): \", DATASET_SIZE)\n",
        "print(\"Tamaño del dataset de entrenamiento en lotes (batches): \", train_size)\n",
        "print(\"Tamaño del dataset de validacipon en lotes (batches): \", val_size)\n",
        "\n",
        "train_dataset = fullDataset.take(train_size)\n",
        "val_dataset = fullDataset.skip(train_size)"
      ]
    },
    {
      "cell_type": "markdown",
      "metadata": {
        "id": "6zXLXsmlRwFK"
      },
      "source": [
        "### RED 1 (OSCAR)"
      ]
    },
    {
      "cell_type": "code",
      "execution_count": 38,
      "metadata": {
        "colab": {
          "base_uri": "https://localhost:8080/"
        },
        "id": "cuCl3RgjRz3G",
        "outputId": "63f33628-5967-42ce-c66c-85abc725e7d6"
      },
      "outputs": [
        {
          "name": "stdout",
          "output_type": "stream",
          "text": [
            "Model: \"sequential_1\"\n",
            "_________________________________________________________________\n",
            "Layer (type)                 Output Shape              Param #   \n",
            "=================================================================\n",
            "conv2d_5 (Conv2D)            (None, 43, 180, 24)       1824      \n",
            "_________________________________________________________________\n",
            "conv2d_6 (Conv2D)            (None, 22, 90, 36)        21636     \n",
            "_________________________________________________________________\n",
            "conv2d_7 (Conv2D)            (None, 11, 45, 48)        43248     \n",
            "_________________________________________________________________\n",
            "conv2d_8 (Conv2D)            (None, 11, 45, 64)        27712     \n",
            "_________________________________________________________________\n",
            "conv2d_9 (Conv2D)            (None, 11, 45, 64)        36928     \n",
            "_________________________________________________________________\n",
            "global_average_pooling2d_1 ( (None, 64)                0         \n",
            "_________________________________________________________________\n",
            "dense_5 (Dense)              (None, 64)                4160      \n",
            "_________________________________________________________________\n",
            "dense_6 (Dense)              (None, 50)                3250      \n",
            "_________________________________________________________________\n",
            "dense_7 (Dense)              (None, 25)                1275      \n",
            "_________________________________________________________________\n",
            "dense_8 (Dense)              (None, 10)                260       \n",
            "_________________________________________________________________\n",
            "dense_9 (Dense)              (None, 2)                 22        \n",
            "=================================================================\n",
            "Total params: 140,315\n",
            "Trainable params: 140,315\n",
            "Non-trainable params: 0\n",
            "_________________________________________________________________\n",
            "None\n"
          ]
        }
      ],
      "source": [
        "# Red\n",
        "from tensorflow.keras import *\n",
        "from tensorflow.keras.layers import *\n",
        "\n",
        "initializer = tf.random_normal_initializer(0., 0.04)\n",
        "\n",
        "model = models.Sequential()\n",
        "\n",
        "model.add(tf.keras.layers.Input(shape = [86, 360, 3]))\n",
        "\n",
        "model.add(layers.Conv2D(24, (5, 5), (2,2) , activation='elu',padding='SAME', kernel_initializer = initializer))\n",
        "#model.add(tf.keras.layers.BatchNormalization())\n",
        "#model.add(tf.keras.layers.Dropout(0.3))\n",
        "\n",
        "model.add(layers.Conv2D(36, (5, 5), (2,2), activation='elu', padding='SAME', kernel_initializer = initializer))\n",
        "#model.add(tf.keras.layers.BatchNormalization())\n",
        "#model.add(tf.keras.layers.Dropout(0.3))\n",
        "\n",
        "model.add(layers.Conv2D(48, (5, 5), (2,2), activation='elu', padding='SAME', kernel_initializer = initializer))\n",
        "#model.add(tf.keras.layers.BatchNormalization())\n",
        "#model.add(tf.keras.layers.Dropout(0.3))\n",
        "\n",
        "model.add(layers.Conv2D(64, (3, 3), activation='elu', padding='SAME', kernel_initializer = initializer))\n",
        "#model.add(tf.keras.layers.BatchNormalization())\n",
        "#model.add(tf.keras.layers.Dropout(0.3))\n",
        "\n",
        "model.add(layers.Conv2D(64, (3, 3), activation='elu', padding='SAME', kernel_initializer = initializer))\n",
        "#model.add(tf.keras.layers.BatchNormalization())\n",
        "#model.add(tf.keras.layers.Dropout(0.3))\n",
        "\n",
        "#model.add(layers.Flatten())\n",
        "\n",
        "model.add(layers.GlobalAveragePooling2D())\n",
        "\n",
        "model.add(Dense(64, activation='sigmoid'))\n",
        "#model.add(tf.keras.layers.Dropout(0.2))\n",
        "#model.add(tf.keras.layers.BatchNormalization())\n",
        "\n",
        "model.add(Dense(50, activation='sigmoid'))\n",
        "#model.add(tf.keras.layers.Dropout(0.2))\n",
        "#model.add(tf.keras.layers.BatchNormalization())\n",
        "\n",
        "model.add(Dense(25, activation='sigmoid'))\n",
        "#model.add(tf.keras.layers.Dropout(0.2))\n",
        "#model.add(tf.keras.layers.BatchNormalization())\n",
        "\n",
        "model.add(Dense(10, activation='sigmoid'))\n",
        "#model.add(tf.keras.layers.BatchNormalization())\n",
        "model.add(Dense(2))\n",
        "\n",
        "#opt = tf.keras.optimizers.Adam(learning_rate=0.3)\n",
        "opt = tf.keras.optimizers.Adam(2e-4, beta_1 = 0.5)\n",
        "\n",
        "model.compile(\n",
        "    #loss='mean_absolute_error',\n",
        "    loss = 'mean_squared_error',\n",
        "    metrics = 'mean_absolute_error',\n",
        "    optimizer= opt\n",
        "    )\n",
        "\n",
        "print(model.summary())\n",
        "#utils.plot_model(model)"
      ]
    },
    {
      "cell_type": "markdown",
      "metadata": {
        "id": "GtaBjfaxjnlM"
      },
      "source": [
        "### Train"
      ]
    },
    {
      "cell_type": "code",
      "execution_count": 49,
      "metadata": {},
      "outputs": [
        {
          "name": "stdout",
          "output_type": "stream",
          "text": [
            "True\n",
            "True\n",
            "True\n",
            "True\n",
            "True\n",
            "True\n",
            "True\n",
            "True\n",
            "True\n",
            "True\n",
            "True\n"
          ]
        }
      ],
      "source": [
        "for layer in model.layers:\n",
        "    layer.trainable = True\n",
        "    print(layer.trainable)\n",
        "    \"\"\" if \"conv\" in layer.name:\n",
        "        print('-------------')\n",
        "        layer.trainable = False\n",
        "        print(layer.name)\n",
        "        print(layer.trainable) \"\"\""
      ]
    },
    {
      "cell_type": "code",
      "execution_count": 51,
      "metadata": {
        "colab": {
          "base_uri": "https://localhost:8080/",
          "height": 451
        },
        "id": "WzCQf2aRU4x5",
        "outputId": "d65598a6-066f-4fec-c290-f7378af97d9f"
      },
      "outputs": [
        {
          "name": "stdout",
          "output_type": "stream",
          "text": [
            " 23/112 [=====>........................] - ETA: 9:53 - loss: 0.0258 - mean_absolute_error: 0.0786"
          ]
        },
        {
          "ename": "KeyboardInterrupt",
          "evalue": "",
          "output_type": "error",
          "traceback": [
            "\u001b[0;31m---------------------------------------------------------------------------\u001b[0m",
            "\u001b[0;31mKeyboardInterrupt\u001b[0m                         Traceback (most recent call last)",
            "\u001b[0;32m<ipython-input-51-1632b9b4f798>\u001b[0m in \u001b[0;36m<module>\u001b[0;34m\u001b[0m\n\u001b[1;32m      1\u001b[0m history = model.fit(\n\u001b[1;32m      2\u001b[0m     \u001b[0mtrain_dataset\u001b[0m\u001b[0;34m,\u001b[0m\u001b[0;34m\u001b[0m\u001b[0;34m\u001b[0m\u001b[0m\n\u001b[0;32m----> 3\u001b[0;31m     \u001b[0mepochs\u001b[0m \u001b[0;34m=\u001b[0m \u001b[0;36m1\u001b[0m\u001b[0;34m,\u001b[0m\u001b[0;34m\u001b[0m\u001b[0;34m\u001b[0m\u001b[0m\n\u001b[0m\u001b[1;32m      4\u001b[0m     \u001b[0;31m#validation_data = val_dataset\u001b[0m\u001b[0;34m\u001b[0m\u001b[0;34m\u001b[0m\u001b[0;34m\u001b[0m\u001b[0m\n\u001b[1;32m      5\u001b[0m     )\n",
            "\u001b[0;32m~/.local/lib/python3.6/site-packages/keras/engine/training.py\u001b[0m in \u001b[0;36mfit\u001b[0;34m(self, x, y, batch_size, epochs, verbose, callbacks, validation_split, validation_data, shuffle, class_weight, sample_weight, initial_epoch, steps_per_epoch, validation_steps, validation_batch_size, validation_freq, max_queue_size, workers, use_multiprocessing)\u001b[0m\n\u001b[1;32m   1182\u001b[0m                 _r=1):\n\u001b[1;32m   1183\u001b[0m               \u001b[0mcallbacks\u001b[0m\u001b[0;34m.\u001b[0m\u001b[0mon_train_batch_begin\u001b[0m\u001b[0;34m(\u001b[0m\u001b[0mstep\u001b[0m\u001b[0;34m)\u001b[0m\u001b[0;34m\u001b[0m\u001b[0;34m\u001b[0m\u001b[0m\n\u001b[0;32m-> 1184\u001b[0;31m               \u001b[0mtmp_logs\u001b[0m \u001b[0;34m=\u001b[0m \u001b[0mself\u001b[0m\u001b[0;34m.\u001b[0m\u001b[0mtrain_function\u001b[0m\u001b[0;34m(\u001b[0m\u001b[0miterator\u001b[0m\u001b[0;34m)\u001b[0m\u001b[0;34m\u001b[0m\u001b[0;34m\u001b[0m\u001b[0m\n\u001b[0m\u001b[1;32m   1185\u001b[0m               \u001b[0;32mif\u001b[0m \u001b[0mdata_handler\u001b[0m\u001b[0;34m.\u001b[0m\u001b[0mshould_sync\u001b[0m\u001b[0;34m:\u001b[0m\u001b[0;34m\u001b[0m\u001b[0;34m\u001b[0m\u001b[0m\n\u001b[1;32m   1186\u001b[0m                 \u001b[0mcontext\u001b[0m\u001b[0;34m.\u001b[0m\u001b[0masync_wait\u001b[0m\u001b[0;34m(\u001b[0m\u001b[0;34m)\u001b[0m\u001b[0;34m\u001b[0m\u001b[0;34m\u001b[0m\u001b[0m\n",
            "\u001b[0;32m~/.local/lib/python3.6/site-packages/tensorflow/python/eager/def_function.py\u001b[0m in \u001b[0;36m__call__\u001b[0;34m(self, *args, **kwds)\u001b[0m\n\u001b[1;32m    883\u001b[0m \u001b[0;34m\u001b[0m\u001b[0m\n\u001b[1;32m    884\u001b[0m       \u001b[0;32mwith\u001b[0m \u001b[0mOptionalXlaContext\u001b[0m\u001b[0;34m(\u001b[0m\u001b[0mself\u001b[0m\u001b[0;34m.\u001b[0m\u001b[0m_jit_compile\u001b[0m\u001b[0;34m)\u001b[0m\u001b[0;34m:\u001b[0m\u001b[0;34m\u001b[0m\u001b[0;34m\u001b[0m\u001b[0m\n\u001b[0;32m--> 885\u001b[0;31m         \u001b[0mresult\u001b[0m \u001b[0;34m=\u001b[0m \u001b[0mself\u001b[0m\u001b[0;34m.\u001b[0m\u001b[0m_call\u001b[0m\u001b[0;34m(\u001b[0m\u001b[0;34m*\u001b[0m\u001b[0margs\u001b[0m\u001b[0;34m,\u001b[0m \u001b[0;34m**\u001b[0m\u001b[0mkwds\u001b[0m\u001b[0;34m)\u001b[0m\u001b[0;34m\u001b[0m\u001b[0;34m\u001b[0m\u001b[0m\n\u001b[0m\u001b[1;32m    886\u001b[0m \u001b[0;34m\u001b[0m\u001b[0m\n\u001b[1;32m    887\u001b[0m       \u001b[0mnew_tracing_count\u001b[0m \u001b[0;34m=\u001b[0m \u001b[0mself\u001b[0m\u001b[0;34m.\u001b[0m\u001b[0mexperimental_get_tracing_count\u001b[0m\u001b[0;34m(\u001b[0m\u001b[0;34m)\u001b[0m\u001b[0;34m\u001b[0m\u001b[0;34m\u001b[0m\u001b[0m\n",
            "\u001b[0;32m~/.local/lib/python3.6/site-packages/tensorflow/python/eager/def_function.py\u001b[0m in \u001b[0;36m_call\u001b[0;34m(self, *args, **kwds)\u001b[0m\n\u001b[1;32m    915\u001b[0m       \u001b[0;31m# In this case we have created variables on the first call, so we run the\u001b[0m\u001b[0;34m\u001b[0m\u001b[0;34m\u001b[0m\u001b[0;34m\u001b[0m\u001b[0m\n\u001b[1;32m    916\u001b[0m       \u001b[0;31m# defunned version which is guaranteed to never create variables.\u001b[0m\u001b[0;34m\u001b[0m\u001b[0;34m\u001b[0m\u001b[0;34m\u001b[0m\u001b[0m\n\u001b[0;32m--> 917\u001b[0;31m       \u001b[0;32mreturn\u001b[0m \u001b[0mself\u001b[0m\u001b[0;34m.\u001b[0m\u001b[0m_stateless_fn\u001b[0m\u001b[0;34m(\u001b[0m\u001b[0;34m*\u001b[0m\u001b[0margs\u001b[0m\u001b[0;34m,\u001b[0m \u001b[0;34m**\u001b[0m\u001b[0mkwds\u001b[0m\u001b[0;34m)\u001b[0m  \u001b[0;31m# pylint: disable=not-callable\u001b[0m\u001b[0;34m\u001b[0m\u001b[0;34m\u001b[0m\u001b[0m\n\u001b[0m\u001b[1;32m    918\u001b[0m     \u001b[0;32melif\u001b[0m \u001b[0mself\u001b[0m\u001b[0;34m.\u001b[0m\u001b[0m_stateful_fn\u001b[0m \u001b[0;32mis\u001b[0m \u001b[0;32mnot\u001b[0m \u001b[0;32mNone\u001b[0m\u001b[0;34m:\u001b[0m\u001b[0;34m\u001b[0m\u001b[0;34m\u001b[0m\u001b[0m\n\u001b[1;32m    919\u001b[0m       \u001b[0;31m# Release the lock early so that multiple threads can perform the call\u001b[0m\u001b[0;34m\u001b[0m\u001b[0;34m\u001b[0m\u001b[0;34m\u001b[0m\u001b[0m\n",
            "\u001b[0;32m~/.local/lib/python3.6/site-packages/tensorflow/python/eager/function.py\u001b[0m in \u001b[0;36m__call__\u001b[0;34m(self, *args, **kwargs)\u001b[0m\n\u001b[1;32m   3038\u001b[0m        filtered_flat_args) = self._maybe_define_function(args, kwargs)\n\u001b[1;32m   3039\u001b[0m     return graph_function._call_flat(\n\u001b[0;32m-> 3040\u001b[0;31m         filtered_flat_args, captured_inputs=graph_function.captured_inputs)  # pylint: disable=protected-access\n\u001b[0m\u001b[1;32m   3041\u001b[0m \u001b[0;34m\u001b[0m\u001b[0m\n\u001b[1;32m   3042\u001b[0m   \u001b[0;34m@\u001b[0m\u001b[0mproperty\u001b[0m\u001b[0;34m\u001b[0m\u001b[0;34m\u001b[0m\u001b[0m\n",
            "\u001b[0;32m~/.local/lib/python3.6/site-packages/tensorflow/python/eager/function.py\u001b[0m in \u001b[0;36m_call_flat\u001b[0;34m(self, args, captured_inputs, cancellation_manager)\u001b[0m\n\u001b[1;32m   1962\u001b[0m       \u001b[0;31m# No tape is watching; skip to running the function.\u001b[0m\u001b[0;34m\u001b[0m\u001b[0;34m\u001b[0m\u001b[0;34m\u001b[0m\u001b[0m\n\u001b[1;32m   1963\u001b[0m       return self._build_call_outputs(self._inference_function.call(\n\u001b[0;32m-> 1964\u001b[0;31m           ctx, args, cancellation_manager=cancellation_manager))\n\u001b[0m\u001b[1;32m   1965\u001b[0m     forward_backward = self._select_forward_and_backward_functions(\n\u001b[1;32m   1966\u001b[0m         \u001b[0margs\u001b[0m\u001b[0;34m,\u001b[0m\u001b[0;34m\u001b[0m\u001b[0;34m\u001b[0m\u001b[0m\n",
            "\u001b[0;32m~/.local/lib/python3.6/site-packages/tensorflow/python/eager/function.py\u001b[0m in \u001b[0;36mcall\u001b[0;34m(self, ctx, args, cancellation_manager)\u001b[0m\n\u001b[1;32m    594\u001b[0m               \u001b[0minputs\u001b[0m\u001b[0;34m=\u001b[0m\u001b[0margs\u001b[0m\u001b[0;34m,\u001b[0m\u001b[0;34m\u001b[0m\u001b[0;34m\u001b[0m\u001b[0m\n\u001b[1;32m    595\u001b[0m               \u001b[0mattrs\u001b[0m\u001b[0;34m=\u001b[0m\u001b[0mattrs\u001b[0m\u001b[0;34m,\u001b[0m\u001b[0;34m\u001b[0m\u001b[0;34m\u001b[0m\u001b[0m\n\u001b[0;32m--> 596\u001b[0;31m               ctx=ctx)\n\u001b[0m\u001b[1;32m    597\u001b[0m         \u001b[0;32melse\u001b[0m\u001b[0;34m:\u001b[0m\u001b[0;34m\u001b[0m\u001b[0;34m\u001b[0m\u001b[0m\n\u001b[1;32m    598\u001b[0m           outputs = execute.execute_with_cancellation(\n",
            "\u001b[0;32m~/.local/lib/python3.6/site-packages/tensorflow/python/eager/execute.py\u001b[0m in \u001b[0;36mquick_execute\u001b[0;34m(op_name, num_outputs, inputs, attrs, ctx, name)\u001b[0m\n\u001b[1;32m     58\u001b[0m     \u001b[0mctx\u001b[0m\u001b[0;34m.\u001b[0m\u001b[0mensure_initialized\u001b[0m\u001b[0;34m(\u001b[0m\u001b[0;34m)\u001b[0m\u001b[0;34m\u001b[0m\u001b[0;34m\u001b[0m\u001b[0m\n\u001b[1;32m     59\u001b[0m     tensors = pywrap_tfe.TFE_Py_Execute(ctx._handle, device_name, op_name,\n\u001b[0;32m---> 60\u001b[0;31m                                         inputs, attrs, num_outputs)\n\u001b[0m\u001b[1;32m     61\u001b[0m   \u001b[0;32mexcept\u001b[0m \u001b[0mcore\u001b[0m\u001b[0;34m.\u001b[0m\u001b[0m_NotOkStatusException\u001b[0m \u001b[0;32mas\u001b[0m \u001b[0me\u001b[0m\u001b[0;34m:\u001b[0m\u001b[0;34m\u001b[0m\u001b[0;34m\u001b[0m\u001b[0m\n\u001b[1;32m     62\u001b[0m     \u001b[0;32mif\u001b[0m \u001b[0mname\u001b[0m \u001b[0;32mis\u001b[0m \u001b[0;32mnot\u001b[0m \u001b[0;32mNone\u001b[0m\u001b[0;34m:\u001b[0m\u001b[0;34m\u001b[0m\u001b[0;34m\u001b[0m\u001b[0m\n",
            "\u001b[0;31mKeyboardInterrupt\u001b[0m: "
          ]
        }
      ],
      "source": [
        "history = model.fit(\n",
        "    train_dataset,\n",
        "    epochs = 1,\n",
        "    #validation_data = val_dataset\n",
        "    )"
      ]
    },
    {
      "cell_type": "code",
      "execution_count": 49,
      "metadata": {
        "colab": {
          "base_uri": "https://localhost:8080/"
        },
        "id": "eYHHE1jOk6fL",
        "outputId": "4bd8cb71-5762-4dc8-f805-29166597f48a"
      },
      "outputs": [
        {
          "name": "stdout",
          "output_type": "stream",
          "text": [
            "INFO:tensorflow:Assets written to: /tmp/tmp7_6osek3/assets\n"
          ]
        }
      ],
      "source": [
        "#import tensorflow as tf\n",
        "converter = tf.lite.TFLiteConverter.from_keras_model(model)\n",
        "tflite_model = converter.convert()\n",
        "\n",
        "# Save the model.\n",
        "with open(path + '/models/RevaseV0.tflite', 'wb') as f:\n",
        "  f.write(tflite_model)"
      ]
    },
    {
      "cell_type": "code",
      "execution_count": 50,
      "metadata": {
        "id": "KpJz8muJk-eK"
      },
      "outputs": [],
      "source": [
        "# Guarda el modelo\n",
        "model.save(path +'/models/RevaseV0.h5')"
      ]
    },
    {
      "cell_type": "code",
      "execution_count": null,
      "metadata": {
        "colab": {
          "base_uri": "https://localhost:8080/",
          "height": 320
        },
        "id": "odF2C00MU-xx",
        "outputId": "108b799d-8a4a-4994-c7c1-dcdf7b37196f"
      },
      "outputs": [
        {
          "data": {
            "image/png": "[encoded data removed]",
            "text/plain": [
              "<Figure size 576x360 with 1 Axes>"
            ]
          },
          "metadata": {
            "needs_background": "light"
          },
          "output_type": "display_data"
        }
      ],
      "source": [
        "pd.DataFrame(history.history).plot(figsize = (8, 5))\n",
        "plt.grid(True)\n",
        "#plt.ylim((0,1))\n",
        "plt.show()"
      ]
    },
    {
      "cell_type": "code",
      "execution_count": 53,
      "metadata": {
        "colab": {
          "base_uri": "https://localhost:8080/",
          "height": 131
        },
        "id": "39kbYZQTf3J3",
        "outputId": "c4891402-5a7f-4fc1-b2b0-f4deec1761c9"
      },
      "outputs": [
        {
          "data": {
            "image/png": "[encoded data removed]",
            "text/plain": [
              "<Figure size 432x288 with 1 Axes>"
            ]
          },
          "metadata": {
            "needs_background": "light"
          },
          "output_type": "display_data"
        },
        {
          "name": "stdout",
          "output_type": "stream",
          "text": [
            "predict:  0.17016196 0.15690672\n",
            "Truth:  [0.14444444] [0.75]\n"
          ]
        }
      ],
      "source": [
        "for testImage, angle in train_dataset.take(1):\n",
        "  pass\n",
        "\n",
        "predict = model(testImage, training = False)\n",
        "\n",
        "#plt.imshow((testImage[0, ...] + 1) / 2)   # Si se normalizó de -1 a 1\n",
        "plt.imshow(testImage[0, ...])              # Si se normalizó de 0 a 1\n",
        "plt.axis('off')\n",
        "plt.show()\n",
        "print('predict: ', predict.numpy()[0][0], predict.numpy()[0][1])\n",
        "print('Truth: ', angle[0].numpy(), angle[1].numpy())"
      ]
    }
  ],
  "metadata": {
    "accelerator": "GPU",
    "colab": {
      "collapsed_sections": [],
      "name": "autodrive_evation_train.ipynb",
      "provenance": []
    },
    "kernelspec": {
      "display_name": "Python 3",
      "name": "python3"
    },
    "language_info": {
      "codemirror_mode": {
        "name": "ipython",
        "version": 3
      },
      "file_extension": ".py",
      "mimetype": "text/x-python",
      "name": "python",
      "nbconvert_exporter": "python",
      "pygments_lexer": "ipython3",
      "version": "3.6.9"
    }
  },
  "nbformat": 4,
  "nbformat_minor": 0
}
